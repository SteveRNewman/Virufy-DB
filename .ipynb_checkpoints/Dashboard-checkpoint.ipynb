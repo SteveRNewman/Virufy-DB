{
 "cells": [
  {
   "cell_type": "code",
   "execution_count": 1,
   "metadata": {
    "executionInfo": {
     "elapsed": 309,
     "status": "ok",
     "timestamp": 1622072709893,
     "user": {
      "displayName": "Steve Newman",
      "photoUrl": "https://lh3.googleusercontent.com/a-/AOh14GiOswJGIbdvZxvoTtMNJ0vb_dGVQSPsJAy9e2VD=s64",
      "userId": "08911050962113299182"
     },
     "user_tz": 240
    },
    "id": "MgoVVnb3Cfm-"
   },
   "outputs": [],
   "source": [
    "import pandas as pd\n",
    "import numpy as np\n",
    "import random"
   ]
  },
  {
   "cell_type": "code",
   "execution_count": 2,
   "metadata": {
    "colab": {
     "base_uri": "https://localhost:8080/",
     "height": 409
    },
    "executionInfo": {
     "elapsed": 312,
     "status": "error",
     "timestamp": 1622072774658,
     "user": {
      "displayName": "Steve Newman",
      "photoUrl": "https://lh3.googleusercontent.com/a-/AOh14GiOswJGIbdvZxvoTtMNJ0vb_dGVQSPsJAy9e2VD=s64",
      "userId": "08911050962113299182"
     },
     "user_tz": 240
    },
    "id": "oHe3l5GhCfnB",
    "outputId": "ebb6dacd-e20f-468e-8371-7d0241457745"
   },
   "outputs": [],
   "source": [
    "#Model 1 \n",
    "data = pd.read_csv(r\"virufy-cdf-coswara-v2-preds.csv\", \n",
    "                   index_col = 0, \n",
    "                   header = 0)"
   ]
  },
  {
   "cell_type": "code",
   "execution_count": 3,
   "metadata": {
    "colab": {
     "base_uri": "https://localhost:8080/",
     "height": 198
    },
    "executionInfo": {
     "elapsed": 24,
     "status": "error",
     "timestamp": 1622072377396,
     "user": {
      "displayName": "Steve Newman",
      "photoUrl": "https://lh3.googleusercontent.com/a-/AOh14GiOswJGIbdvZxvoTtMNJ0vb_dGVQSPsJAy9e2VD=s64",
      "userId": "08911050962113299182"
     },
     "user_tz": 240
    },
    "id": "6a_tKj05CfnC",
    "outputId": "c204c0f1-e94c-414a-b419-b7847efbd411"
   },
   "outputs": [],
   "source": [
    "# Data processing \n",
    "model_1 = data[['country','age','pcr_test_result','pcr_test_result_pred']]\n",
    "model_1 = model_1.loc[model_1['country'].isin(model_1['country'].value_counts()[:4].index.tolist())]"
   ]
  },
  {
   "cell_type": "code",
   "execution_count": 4,
   "metadata": {
    "colab": {
     "base_uri": "https://localhost:8080/",
     "height": 181
    },
    "executionInfo": {
     "elapsed": 47,
     "status": "error",
     "timestamp": 1622072377423,
     "user": {
      "displayName": "Steve Newman",
      "photoUrl": "https://lh3.googleusercontent.com/a-/AOh14GiOswJGIbdvZxvoTtMNJ0vb_dGVQSPsJAy9e2VD=s64",
      "userId": "08911050962113299182"
     },
     "user_tz": 240
    },
    "id": "pFH_4UBKCfnC",
    "outputId": "f5dc4e4e-c106-43bb-b3a3-1cfa327f907b"
   },
   "outputs": [],
   "source": [
    "model_1 = model_1.loc[(model_1['pcr_test_result'] == 'negative') | (model_1['pcr_test_result'] == 'positive')]\n",
    "model_1 = model_1.dropna() "
   ]
  },
  {
   "cell_type": "code",
   "execution_count": 5,
   "metadata": {
    "id": "UkMPVyCICfnD"
   },
   "outputs": [],
   "source": [
    "model_1['pcr_test_result'] = model_1.pcr_test_result.replace({'negative':0, 'positive':1})\n",
    "model_1['pcr_test_result_pred'] = model_1.pcr_test_result_pred.replace({'negative':0, 'positive':1})"
   ]
  },
  {
   "cell_type": "code",
   "execution_count": 6,
   "metadata": {
    "colab": {
     "base_uri": "https://localhost:8080/",
     "height": 232
    },
    "executionInfo": {
     "elapsed": 64,
     "status": "error",
     "timestamp": 1622072378208,
     "user": {
      "displayName": "Steve Newman",
      "photoUrl": "https://lh3.googleusercontent.com/a-/AOh14GiOswJGIbdvZxvoTtMNJ0vb_dGVQSPsJAy9e2VD=s64",
      "userId": "08911050962113299182"
     },
     "user_tz": 240
    },
    "id": "zkQj6E_nCfnD",
    "outputId": "73769cdd-1ad7-44ec-9a6d-c99cd2a96948"
   },
   "outputs": [],
   "source": [
    "#Creating model 2 data\n",
    "np.random.seed(0)\n",
    "model_2_len = np.random.randint(len(model_1) - 100, len(model_1) + 500, 1)[0]\n",
    "\n",
    "model_2_country = np.array(random.choices(model_1['country'].unique().tolist(), k=model_2_len)).reshape(model_2_len,1)\n",
    "model_2_age = np.array(random.choices(range(18,80), k=model_2_len)).reshape(model_2_len,1)\n",
    "model_2_result = np.array(random.choices([0,1], k=model_2_len)).reshape(model_2_len,1)\n",
    "model_2_pred = np.array(random.choices([0,1], k=model_2_len)).reshape(model_2_len,1)"
   ]
  },
  {
   "cell_type": "code",
   "execution_count": 7,
   "metadata": {
    "colab": {
     "base_uri": "https://localhost:8080/",
     "height": 198
    },
    "executionInfo": {
     "elapsed": 70,
     "status": "error",
     "timestamp": 1622072378225,
     "user": {
      "displayName": "Steve Newman",
      "photoUrl": "https://lh3.googleusercontent.com/a-/AOh14GiOswJGIbdvZxvoTtMNJ0vb_dGVQSPsJAy9e2VD=s64",
      "userId": "08911050962113299182"
     },
     "user_tz": 240
    },
    "id": "GWvHzt5ZCfnD",
    "outputId": "0a91281a-54e2-41e5-cfff-15a1e712ce19"
   },
   "outputs": [],
   "source": [
    "model_2 = pd.DataFrame(data = None,\n",
    "                      index = range(0,model_2_len),\n",
    "                      columns = model_1.columns)"
   ]
  },
  {
   "cell_type": "code",
   "execution_count": 8,
   "metadata": {
    "colab": {
     "base_uri": "https://localhost:8080/",
     "height": 215
    },
    "executionInfo": {
     "elapsed": 27,
     "status": "error",
     "timestamp": 1622072378776,
     "user": {
      "displayName": "Steve Newman",
      "photoUrl": "https://lh3.googleusercontent.com/a-/AOh14GiOswJGIbdvZxvoTtMNJ0vb_dGVQSPsJAy9e2VD=s64",
      "userId": "08911050962113299182"
     },
     "user_tz": 240
    },
    "id": "5wKE-M0JCfnE",
    "outputId": "b4a7406a-5143-46d5-ed0c-5af0dfe969b6"
   },
   "outputs": [],
   "source": [
    "model_2['country'] = model_2_country\n",
    "model_2['age'] = model_2_age\n",
    "model_2['pcr_test_result'] = model_2_result\n",
    "model_2['pcr_test_result_pred'] = model_2_pred"
   ]
  },
  {
   "cell_type": "code",
   "execution_count": 9,
   "metadata": {
    "colab": {
     "base_uri": "https://localhost:8080/",
     "height": 181
    },
    "executionInfo": {
     "elapsed": 26,
     "status": "error",
     "timestamp": 1622072378780,
     "user": {
      "displayName": "Steve Newman",
      "photoUrl": "https://lh3.googleusercontent.com/a-/AOh14GiOswJGIbdvZxvoTtMNJ0vb_dGVQSPsJAy9e2VD=s64",
      "userId": "08911050962113299182"
     },
     "user_tz": 240
    },
    "id": "sEaQwICdCfnE",
    "outputId": "ccdf3453-1ad3-41a2-fac8-f0faa7939cec"
   },
   "outputs": [],
   "source": [
    "model_1 = model_1.sort_values(by=['country'])\n",
    "model_2 = model_2.sort_values(by=['country'])"
   ]
  },
  {
   "cell_type": "code",
   "execution_count": 10,
   "metadata": {
    "colab": {
     "base_uri": "https://localhost:8080/",
     "height": 164
    },
    "executionInfo": {
     "elapsed": 21,
     "status": "error",
     "timestamp": 1622072379353,
     "user": {
      "displayName": "Steve Newman",
      "photoUrl": "https://lh3.googleusercontent.com/a-/AOh14GiOswJGIbdvZxvoTtMNJ0vb_dGVQSPsJAy9e2VD=s64",
      "userId": "08911050962113299182"
     },
     "user_tz": 240
    },
    "id": "oAHXTBmPCfnE",
    "outputId": "2274413d-dd79-4d5e-f97b-a547a0204f19"
   },
   "outputs": [
    {
     "data": {
      "text/html": [
       "<div>\n",
       "<style scoped>\n",
       "    .dataframe tbody tr th:only-of-type {\n",
       "        vertical-align: middle;\n",
       "    }\n",
       "\n",
       "    .dataframe tbody tr th {\n",
       "        vertical-align: top;\n",
       "    }\n",
       "\n",
       "    .dataframe thead th {\n",
       "        text-align: right;\n",
       "    }\n",
       "</style>\n",
       "<table border=\"1\" class=\"dataframe\">\n",
       "  <thead>\n",
       "    <tr style=\"text-align: right;\">\n",
       "      <th></th>\n",
       "      <th>country</th>\n",
       "      <th>age</th>\n",
       "      <th>pcr_test_result</th>\n",
       "      <th>pcr_test_result_pred</th>\n",
       "    </tr>\n",
       "  </thead>\n",
       "  <tbody>\n",
       "    <tr>\n",
       "      <th>305</th>\n",
       "      <td>Canada</td>\n",
       "      <td>31</td>\n",
       "      <td>0</td>\n",
       "      <td>0</td>\n",
       "    </tr>\n",
       "    <tr>\n",
       "      <th>680</th>\n",
       "      <td>Canada</td>\n",
       "      <td>41</td>\n",
       "      <td>0</td>\n",
       "      <td>0</td>\n",
       "    </tr>\n",
       "    <tr>\n",
       "      <th>1199</th>\n",
       "      <td>Canada</td>\n",
       "      <td>27</td>\n",
       "      <td>0</td>\n",
       "      <td>1</td>\n",
       "    </tr>\n",
       "    <tr>\n",
       "      <th>1200</th>\n",
       "      <td>Canada</td>\n",
       "      <td>27</td>\n",
       "      <td>0</td>\n",
       "      <td>0</td>\n",
       "    </tr>\n",
       "    <tr>\n",
       "      <th>335</th>\n",
       "      <td>Canada</td>\n",
       "      <td>22</td>\n",
       "      <td>0</td>\n",
       "      <td>0</td>\n",
       "    </tr>\n",
       "  </tbody>\n",
       "</table>\n",
       "</div>"
      ],
      "text/plain": [
       "     country  age  pcr_test_result  pcr_test_result_pred\n",
       "305   Canada   31                0                     0\n",
       "680   Canada   41                0                     0\n",
       "1199  Canada   27                0                     1\n",
       "1200  Canada   27                0                     0\n",
       "335   Canada   22                0                     0"
      ]
     },
     "execution_count": 10,
     "metadata": {},
     "output_type": "execute_result"
    }
   ],
   "source": [
    "model_1.head()"
   ]
  },
  {
   "cell_type": "code",
   "execution_count": 11,
   "metadata": {
    "id": "B2ypDowoCfnF"
   },
   "outputs": [
    {
     "data": {
      "text/html": [
       "<div>\n",
       "<style scoped>\n",
       "    .dataframe tbody tr th:only-of-type {\n",
       "        vertical-align: middle;\n",
       "    }\n",
       "\n",
       "    .dataframe tbody tr th {\n",
       "        vertical-align: top;\n",
       "    }\n",
       "\n",
       "    .dataframe thead th {\n",
       "        text-align: right;\n",
       "    }\n",
       "</style>\n",
       "<table border=\"1\" class=\"dataframe\">\n",
       "  <thead>\n",
       "    <tr style=\"text-align: right;\">\n",
       "      <th></th>\n",
       "      <th>country</th>\n",
       "      <th>age</th>\n",
       "      <th>pcr_test_result</th>\n",
       "      <th>pcr_test_result_pred</th>\n",
       "    </tr>\n",
       "  </thead>\n",
       "  <tbody>\n",
       "    <tr>\n",
       "      <th>932</th>\n",
       "      <td>Canada</td>\n",
       "      <td>58</td>\n",
       "      <td>1</td>\n",
       "      <td>0</td>\n",
       "    </tr>\n",
       "    <tr>\n",
       "      <th>595</th>\n",
       "      <td>Canada</td>\n",
       "      <td>61</td>\n",
       "      <td>0</td>\n",
       "      <td>1</td>\n",
       "    </tr>\n",
       "    <tr>\n",
       "      <th>1320</th>\n",
       "      <td>Canada</td>\n",
       "      <td>38</td>\n",
       "      <td>1</td>\n",
       "      <td>0</td>\n",
       "    </tr>\n",
       "    <tr>\n",
       "      <th>1321</th>\n",
       "      <td>Canada</td>\n",
       "      <td>57</td>\n",
       "      <td>1</td>\n",
       "      <td>0</td>\n",
       "    </tr>\n",
       "    <tr>\n",
       "      <th>344</th>\n",
       "      <td>Canada</td>\n",
       "      <td>67</td>\n",
       "      <td>1</td>\n",
       "      <td>0</td>\n",
       "    </tr>\n",
       "  </tbody>\n",
       "</table>\n",
       "</div>"
      ],
      "text/plain": [
       "     country  age  pcr_test_result  pcr_test_result_pred\n",
       "932   Canada   58                1                     0\n",
       "595   Canada   61                0                     1\n",
       "1320  Canada   38                1                     0\n",
       "1321  Canada   57                1                     0\n",
       "344   Canada   67                1                     0"
      ]
     },
     "execution_count": 11,
     "metadata": {},
     "output_type": "execute_result"
    }
   ],
   "source": [
    "model_2.head()"
   ]
  },
  {
   "cell_type": "code",
   "execution_count": 13,
   "metadata": {
    "id": "sbcWRwirCvMi"
   },
   "outputs": [
    {
     "data": {
      "text/plain": [
       "array(['Canada', 'France', 'India', 'United States'], dtype=object)"
      ]
     },
     "execution_count": 13,
     "metadata": {},
     "output_type": "execute_result"
    }
   ],
   "source": [
    "model_1.country.unique()"
   ]
  },
  {
   "cell_type": "code",
   "execution_count": null,
   "metadata": {
    "id": "VZfE-LxRC1FM"
   },
   "outputs": [],
   "source": []
  }
 ],
 "metadata": {
  "colab": {
   "name": "Dashboard.ipynb",
   "provenance": []
  },
  "kernelspec": {
   "display_name": "Python 3",
   "language": "python",
   "name": "python3"
  },
  "language_info": {
   "codemirror_mode": {
    "name": "ipython",
    "version": 3
   },
   "file_extension": ".py",
   "mimetype": "text/x-python",
   "name": "python",
   "nbconvert_exporter": "python",
   "pygments_lexer": "ipython3",
   "version": "3.6.9"
  },
  "toc": {
   "base_numbering": 1,
   "nav_menu": {},
   "number_sections": false,
   "sideBar": true,
   "skip_h1_title": false,
   "title_cell": "Table of Contents",
   "title_sidebar": "Contents",
   "toc_cell": false,
   "toc_position": {},
   "toc_section_display": true,
   "toc_window_display": false
  }
 },
 "nbformat": 4,
 "nbformat_minor": 1
}
